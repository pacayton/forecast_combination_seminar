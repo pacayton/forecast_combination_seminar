{
  "nbformat": 4,
  "nbformat_minor": 0,
  "metadata": {
    "colab": {
      "name": "Forecast_Combination_R.ipynb",
      "provenance": [],
      "collapsed_sections": [],
      "authorship_tag": "ABX9TyMlK6jNtmpgrsXLYjqWY45m",
      "include_colab_link": true
    },
    "kernelspec": {
      "name": "ir",
      "display_name": "R"
    },
    "language_info": {
      "name": "R"
    }
  },
  "cells": [
    {
      "cell_type": "markdown",
      "metadata": {
        "id": "view-in-github",
        "colab_type": "text"
      },
      "source": [
        "<a href=\"https://colab.research.google.com/github/pacayton/forecast_combination_seminar/blob/main/Forecast_Combination_R.ipynb\" target=\"_parent\"><img src=\"https://colab.research.google.com/assets/colab-badge.svg\" alt=\"Open In Colab\"/></a>"
      ]
    },
    {
      "cell_type": "markdown",
      "source": [
        "# **Forecast Combination Using R**\n",
        "\n",
        "### Peter Julian Cayton\n",
        "### *Associate Professor, School of Statistics, UP Diliman*\n",
        "\n",
        "## Materials on GitHub:\n",
        "\n",
        "https://github.com/pacayton/forecast_combination_seminar\n",
        "\n",
        "## Contents:\n",
        "1.   Basic Background\n",
        "2.   Some Methods in Forecast Combination\n",
        "3.   Sample Codes in R\n",
        "4.   References\n"
      ],
      "metadata": {
        "id": "b53oUyVoi2ca"
      }
    },
    {
      "cell_type": "markdown",
      "source": [
        "Before we begin: \n",
        "\n",
        "1. Please load the data from GitHub to your Files folder in Google Colab\n",
        "2. A preamble of code below"
      ],
      "metadata": {
        "id": "DeM4PHQGlvte"
      }
    },
    {
      "cell_type": "code",
      "execution_count": null,
      "metadata": {
        "id": "Lg_h7hiZ1R1X",
        "colab": {
          "base_uri": "https://localhost:8080/"
        },
        "outputId": "2864609d-94af-4383-d44d-50d89b695aa1"
      },
      "outputs": [
        {
          "output_type": "stream",
          "name": "stderr",
          "text": [
            "Installing package into ‘/usr/local/lib/R/site-library’\n",
            "(as ‘lib’ is unspecified)\n",
            "\n",
            "also installing the dependencies ‘numDeriv’, ‘warp’, ‘BH’, ‘distributional’, ‘progressr’, ‘slider’, ‘anytime’, ‘fable’, ‘fabletools’, ‘feasts’, ‘tsibble’, ‘tsibbledata’, ‘urca’\n",
            "\n",
            "\n",
            "Installing package into ‘/usr/local/lib/R/site-library’\n",
            "(as ‘lib’ is unspecified)\n",
            "\n",
            "also installing the dependencies ‘xts’, ‘TTR’, ‘quadprog’, ‘quantmod’, ‘fracdiff’, ‘lmtest’, ‘timeDate’, ‘tseries’, ‘zoo’, ‘RcppArmadillo’, ‘expsmooth’, ‘fma’, ‘forecast’\n",
            "\n",
            "\n"
          ]
        }
      ],
      "source": [
        "install.packages(\"fpp3\")\n",
        "install.packages(\"fpp2\")\n",
        "\n",
        "library(fpp2)\n",
        "library(fpp3)\n",
        "\n",
        "COVID <- read.csv(\"/content/COVID_national_data.csv\")"
      ]
    },
    {
      "cell_type": "markdown",
      "source": [
        "### 1. Basic Background\n",
        "\n",
        "*   Combining forecasts from different models to improve predictive accuracy has long been known (Bates & Granger 1969; Clemen 1989).\n",
        "*   Even simply averaging the forecasts from multiple models can improve accuracy greatly (Clemen 1989)\n",
        "*   Recent use of forecast combinations have surged with the increase in computing power, the growth of data science, and forecasting competitions (Makridakis, Spiliotis, & Assimakopoulos 2020). \n",
        "*   More recently, forecast combination methods have been called \"ensemble forecasting\" but they are essentially similar in terms of combining forecasts from different model configurations.\n",
        "*   With COVID-19, forecast ensembles have been used for cases, deaths, and hospitalizations in the US (Ray, et al. 2020) and for deaths in multiple countries (Imperial College COVID-19 response team 2022)\n",
        "\n"
      ],
      "metadata": {
        "id": "7dredaBKnZcd"
      }
    },
    {
      "cell_type": "markdown",
      "source": [
        "### 2. Some Methods in Forecast Combination\n",
        "\n",
        "1. Simple Average/Equal Weights Method\n",
        "*   This means averaging the forecasts from different models for the horizon."
      ],
      "metadata": {
        "id": "XQTDZrRKZije"
      }
    },
    {
      "cell_type": "markdown",
      "source": [
        "### 4. References:\n",
        "\n",
        "1. Bates, J. M., & Granger, C. W. J. (1969). The combination of forecasts. Operational Research Quarterly, 20(4), 451–468. https://www.tandfonline.com/doi/abs/10.1057/jors.1969.103\n",
        "\n",
        "2. Clemen, R. (1989). Combining forecasts: A review and annotated bibliography. International Journal of Forecasting, 5(4), 559–583. https://www.sciencedirect.com/science/article/abs/pii/0169207089900125\n",
        "\n",
        "3. Hyndman, R.J., & Athanasopoulos, G. (2018) Forecasting: principles and practice, 2nd edition, OTexts: Melbourne, Australia. OTexts.com/fpp2. Accessed on 2022-03-01.\n",
        "\n",
        "4. Hyndman, R.J., & Athanasopoulos, G. (2021) Forecasting: principles and practice, 3rd edition, OTexts: Melbourne, Australia. OTexts.com/fpp3. Accessed on 2022-03-01.\n",
        "\n",
        "5.  Imperial College COVID-19 response team (2022). Short-term forecasts of COVID-19 deaths in multiple countries. https://mrc-ide.github.io/covid19-short-term-forecasts/. Accessed last 2022-03-09.\n",
        "\n",
        "6. Makridakis, S., Spiliotis, E., & Assimakopoulos, V. (2020). The M4 Competition: 100,000 time series and 61 forecasting methods. International Journal of Forecasting. Volume 36, Issue 1, January–March 2020, Pages 54-74. https://doi.org/10.1016/j.ijforecast.2019.04.014\n",
        "\n",
        "7. Ray, et al. (2020). Ensemble Forecasts of Coronavirus Disease 2019 (COVID-19) in the U.S. medRxiv. DOI: https://doi.org/10.1101/2020.08.19.20177493."
      ],
      "metadata": {
        "id": "WagQ5KDOpsyR"
      }
    }
  ]
}